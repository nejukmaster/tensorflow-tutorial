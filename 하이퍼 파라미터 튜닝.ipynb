{
  "nbformat": 4,
  "nbformat_minor": 0,
  "metadata": {
    "colab": {
      "name": "Untitled35.ipynb",
      "provenance": []
    },
    "kernelspec": {
      "name": "python3",
      "display_name": "Python 3"
    },
    "language_info": {
      "name": "python"
    },
    "accelerator": "GPU"
  },
  "cells": [
    {
      "cell_type": "markdown",
      "metadata": {
        "id": "FB_XNSTvX1DO"
      },
      "source": [
        "# **Keras Tuner**\n",
        "\n",
        "https://www.tensorflow.org/tutorials/keras/keras_tuner?hl=ko\n",
        "\n",
        "*하이퍼 파라미터 튜닝: 모델을 구성하는 여러 요소 중에 최적의 요소 값을 찾아내는 과정(epoch, learning rate등)"
      ]
    },
    {
      "cell_type": "code",
      "metadata": {
        "id": "xuYXGi2FXtdQ"
      },
      "source": [
        "import tensorflow as tf\n",
        "from tensorflow import keras\n",
        "import IPython"
      ],
      "execution_count": 1,
      "outputs": []
    },
    {
      "cell_type": "code",
      "metadata": {
        "colab": {
          "base_uri": "https://localhost:8080/"
        },
        "id": "ysRuLBC1Ybmj",
        "outputId": "b0e95338-b8c1-4a18-a5fc-c9f71e6b4559"
      },
      "source": [
        "!pip install -q -U keras-tuner\n",
        "import kerastuner as kt"
      ],
      "execution_count": 2,
      "outputs": [
        {
          "output_type": "stream",
          "text": [
            "\u001b[?25l\r\u001b[K     |█████▏                          | 10kB 26.5MB/s eta 0:00:01\r\u001b[K     |██████████▍                     | 20kB 31.9MB/s eta 0:00:01\r\u001b[K     |███████████████▋                | 30kB 23.8MB/s eta 0:00:01\r\u001b[K     |████████████████████▉           | 40kB 18.7MB/s eta 0:00:01\r\u001b[K     |██████████████████████████      | 51kB 17.0MB/s eta 0:00:01\r\u001b[K     |███████████████████████████████▎| 61kB 15.5MB/s eta 0:00:01\r\u001b[K     |████████████████████████████████| 71kB 6.8MB/s \n",
            "\u001b[?25h  Building wheel for keras-tuner (setup.py) ... \u001b[?25l\u001b[?25hdone\n",
            "  Building wheel for terminaltables (setup.py) ... \u001b[?25l\u001b[?25hdone\n"
          ],
          "name": "stdout"
        }
      ]
    },
    {
      "cell_type": "code",
      "metadata": {
        "colab": {
          "base_uri": "https://localhost:8080/"
        },
        "id": "zxkf5LQXYkHb",
        "outputId": "7d6d0b8b-11c1-4c06-939f-7cd5c91d48c6"
      },
      "source": [
        "#fashion MNIST 데이터 세트 준비\n",
        "(img_train, label_train), (img_test, label_test) = keras.datasets.fashion_mnist.load_data()\n",
        "\n",
        "#0~1사이의 값으로 데이터 정규화\n",
        "img_train = img_train.astype('float32') / 255.0\n",
        "img_test = img_test.astype('float32') / 255.0"
      ],
      "execution_count": 3,
      "outputs": [
        {
          "output_type": "stream",
          "text": [
            "Downloading data from https://storage.googleapis.com/tensorflow/tf-keras-datasets/train-labels-idx1-ubyte.gz\n",
            "32768/29515 [=================================] - 0s 0us/step\n",
            "Downloading data from https://storage.googleapis.com/tensorflow/tf-keras-datasets/train-images-idx3-ubyte.gz\n",
            "26427392/26421880 [==============================] - 1s 0us/step\n",
            "Downloading data from https://storage.googleapis.com/tensorflow/tf-keras-datasets/t10k-labels-idx1-ubyte.gz\n",
            "8192/5148 [===============================================] - 0s 0us/step\n",
            "Downloading data from https://storage.googleapis.com/tensorflow/tf-keras-datasets/t10k-images-idx3-ubyte.gz\n",
            "4423680/4422102 [==============================] - 0s 0us/step\n"
          ],
          "name": "stdout"
        }
      ]
    },
    {
      "cell_type": "markdown",
      "metadata": {
        "id": "DcOr1vL_Y23g"
      },
      "source": [
        "**모델 정의하기**"
      ]
    },
    {
      "cell_type": "code",
      "metadata": {
        "id": "BaDOFK-BY1te"
      },
      "source": [
        "#간단한 이미지 분류기 모델을 생성하는 함수 정의\n",
        "#하이퍼 튜닝을 할 예정이기에 하이퍼 파라미터를 받을 인자 hp를 설정\n",
        "def model_builder(hp):\n",
        "  model = keras.Sequential()\n",
        "  model.add(keras.layers.Flatten(input_shape=(28, 28)))\n",
        "\n",
        "  #하이퍼 파라미터로 첫번째 밀집층의 뉴런개수를 32~512개 사의의 최적의 값으로 튜닝\n",
        "  #정수값중 최적의 값을 찾는 것이므로 Int메서드를 사용하고 step을 정해준다.\n",
        "  #step매개변수는 찾는 과정을 몇번 반복할지 정한다.\n",
        "  hp_units = hp.Int('units', min_value = 32, max_value = 512, step = 32)\n",
        "  model.add(keras.layers.Dense(units = hp_units, activation = 'relu'))\n",
        "  model.add(keras.layers.Dense(10))\n",
        "\n",
        "  #하이퍼 파라미터로 learning rate값을 0.01,0.001,0.0001값중 최적의 값으로 튜닝\n",
        "  #3개의 정해진 값중 하나의 값으로 선택하므로 Choice메소드를 사용\n",
        "  hp_learning_rate = hp.Choice('learning_rate', values = [1e-2, 1e-3, 1e-4]) \n",
        "\n",
        "  model.compile(optimizer = keras.optimizers.Adam(learning_rate = hp_learning_rate),\n",
        "                loss = keras.losses.SparseCategoricalCrossentropy(from_logits = True), \n",
        "                metrics = ['accuracy'])\n",
        "\n",
        "  return model\n",
        "\n",
        "#비교를 위한 임의 모델 생성 함수 정의\n",
        "def model_builder_0():\n",
        "  model = keras.Sequential()\n",
        "  model.add(keras.layers.Flatten(input_shape=(28, 28)))\n",
        "  model.add(keras.layers.Dense(32, activation = 'relu'))\n",
        "  model.add(keras.layers.Dense(10))\n",
        "\n",
        "  model.compile(optimizer = keras.optimizers.Adam(learning_rate = 0.01),\n",
        "                loss = keras.losses.SparseCategoricalCrossentropy(from_logits = True), \n",
        "                metrics = ['accuracy'])\n",
        "\n",
        "  return model"
      ],
      "execution_count": 13,
      "outputs": []
    },
    {
      "cell_type": "markdown",
      "metadata": {
        "id": "pMc18_inbdr0"
      },
      "source": [
        "**하이퍼 튜닝**"
      ]
    },
    {
      "cell_type": "code",
      "metadata": {
        "id": "qEhXuyz2bdGD"
      },
      "source": [
        "#튜너를 설정한다.\n",
        "tuner = kt.Hyperband(model_builder,\n",
        "                     objective = 'val_accuracy', \n",
        "                     max_epochs = 10,\n",
        "                     factor = 3)"
      ],
      "execution_count": 5,
      "outputs": []
    },
    {
      "cell_type": "code",
      "metadata": {
        "id": "UDk_NhB1cUgG"
      },
      "source": [
        "#훈련단계가 끝날때 마다 훈련결과를 지우는 콜백을 제작\n",
        "#class선언문은 인자로 상속받을 클래스를 받는다.\n",
        "class ClearTrainingOutput(tf.keras.callbacks.Callback):\n",
        "  #on_train_end 함수를 override하여 훈련결과를 지우도록 설정\n",
        "  def on_train_end(*args, **kwargs):\n",
        "    IPython.display.clear_output(wait = True)"
      ],
      "execution_count": 6,
      "outputs": []
    },
    {
      "cell_type": "code",
      "metadata": {
        "colab": {
          "base_uri": "https://localhost:8080/"
        },
        "id": "xhi-oeDyczg2",
        "outputId": "7da7b982-b950-437f-c97c-11affff26a9c"
      },
      "source": [
        "#하이퍼 파라미터 탐색\n",
        "tuner.search(img_train, label_train, epochs = 10, validation_data = (img_test, label_test), callbacks = [ClearTrainingOutput()])\n",
        "\n",
        "#최적의 하이퍼 파라미터값을 받습니다.\n",
        "best_hps = tuner.get_best_hyperparameters(num_trials = 1)[0]"
      ],
      "execution_count": 7,
      "outputs": [
        {
          "output_type": "stream",
          "text": [
            "Trial 30 Complete [00h 00m 34s]\n",
            "val_accuracy: 0.8578000068664551\n",
            "\n",
            "Best val_accuracy So Far: 0.8809000253677368\n",
            "Total elapsed time: 00h 07m 00s\n",
            "INFO:tensorflow:Oracle triggered exit\n"
          ],
          "name": "stdout"
        }
      ]
    },
    {
      "cell_type": "code",
      "metadata": {
        "colab": {
          "base_uri": "https://localhost:8080/"
        },
        "id": "bcyLnfFyeKOq",
        "outputId": "51cd3d62-ce85-4e5e-c8da-d756b3f065d1"
      },
      "source": [
        "print(f\"\"\"\n",
        "The hyperparameter search is complete. The optimal number of units in the first densely-connected\n",
        "layer is {best_hps.get('units')} and the optimal learning rate for the optimizer\n",
        "is {best_hps.get('learning_rate')}.\n",
        "\"\"\")"
      ],
      "execution_count": 8,
      "outputs": [
        {
          "output_type": "stream",
          "text": [
            "\n",
            "The hyperparameter search is complete. The optimal number of units in the first densely-connected\n",
            "layer is 320 and the optimal learning rate for the optimizer\n",
            "is 0.001.\n",
            "\n"
          ],
          "name": "stdout"
        }
      ]
    },
    {
      "cell_type": "code",
      "metadata": {
        "colab": {
          "base_uri": "https://localhost:8080/"
        },
        "id": "7JyUJPfNdG_I",
        "outputId": "919b351b-533b-4979-8fd2-f34ded223232"
      },
      "source": [
        "#앞서 구한 최적의 파라미터로 모델을 재훈련\n",
        "model = tuner.hypermodel.build(best_hps)\n",
        "history = model.fit(img_train, label_train, epochs = 10, validation_data = (img_test, label_test))"
      ],
      "execution_count": 9,
      "outputs": [
        {
          "output_type": "stream",
          "text": [
            "Epoch 1/10\n",
            "1875/1875 [==============================] - 4s 2ms/step - loss: 0.5970 - accuracy: 0.7902 - val_loss: 0.4490 - val_accuracy: 0.8399\n",
            "Epoch 2/10\n",
            "1875/1875 [==============================] - 3s 2ms/step - loss: 0.3737 - accuracy: 0.8627 - val_loss: 0.4016 - val_accuracy: 0.8599\n",
            "Epoch 3/10\n",
            "1875/1875 [==============================] - 3s 2ms/step - loss: 0.3282 - accuracy: 0.8798 - val_loss: 0.3648 - val_accuracy: 0.8711\n",
            "Epoch 4/10\n",
            "1875/1875 [==============================] - 3s 2ms/step - loss: 0.2940 - accuracy: 0.8910 - val_loss: 0.3517 - val_accuracy: 0.8728\n",
            "Epoch 5/10\n",
            "1875/1875 [==============================] - 3s 2ms/step - loss: 0.2775 - accuracy: 0.8984 - val_loss: 0.3429 - val_accuracy: 0.8746\n",
            "Epoch 6/10\n",
            "1875/1875 [==============================] - 3s 2ms/step - loss: 0.2614 - accuracy: 0.9025 - val_loss: 0.3426 - val_accuracy: 0.8736\n",
            "Epoch 7/10\n",
            "1875/1875 [==============================] - 3s 2ms/step - loss: 0.2525 - accuracy: 0.9056 - val_loss: 0.3440 - val_accuracy: 0.8793\n",
            "Epoch 8/10\n",
            "1875/1875 [==============================] - 3s 2ms/step - loss: 0.2415 - accuracy: 0.9085 - val_loss: 0.3345 - val_accuracy: 0.8833\n",
            "Epoch 9/10\n",
            "1875/1875 [==============================] - 3s 2ms/step - loss: 0.2328 - accuracy: 0.9122 - val_loss: 0.3643 - val_accuracy: 0.8793\n",
            "Epoch 10/10\n",
            "1875/1875 [==============================] - 3s 2ms/step - loss: 0.2225 - accuracy: 0.9169 - val_loss: 0.3536 - val_accuracy: 0.8761\n"
          ],
          "name": "stdout"
        }
      ]
    },
    {
      "cell_type": "code",
      "metadata": {
        "colab": {
          "base_uri": "https://localhost:8080/"
        },
        "id": "2cbXluUmhBPl",
        "outputId": "c7c06d69-deb1-4e27-d1cf-a8f43da787c0"
      },
      "source": [
        "model2 = model_builder_0()\n",
        "history2 = model2.fit(img_train, label_train, epochs = 10, validation_data = (img_test, label_test))"
      ],
      "execution_count": 15,
      "outputs": [
        {
          "output_type": "stream",
          "text": [
            "Epoch 1/10\n",
            "1875/1875 [==============================] - 4s 2ms/step - loss: 0.7098 - accuracy: 0.7427 - val_loss: 0.4931 - val_accuracy: 0.8236\n",
            "Epoch 2/10\n",
            "1875/1875 [==============================] - 3s 2ms/step - loss: 0.4738 - accuracy: 0.8309 - val_loss: 0.5167 - val_accuracy: 0.8141\n",
            "Epoch 3/10\n",
            "1875/1875 [==============================] - 3s 2ms/step - loss: 0.4511 - accuracy: 0.8374 - val_loss: 0.4869 - val_accuracy: 0.8241\n",
            "Epoch 4/10\n",
            "1875/1875 [==============================] - 3s 2ms/step - loss: 0.4395 - accuracy: 0.8441 - val_loss: 0.4798 - val_accuracy: 0.8301\n",
            "Epoch 5/10\n",
            "1875/1875 [==============================] - 3s 2ms/step - loss: 0.4310 - accuracy: 0.8461 - val_loss: 0.5064 - val_accuracy: 0.8289\n",
            "Epoch 6/10\n",
            "1875/1875 [==============================] - 3s 2ms/step - loss: 0.4261 - accuracy: 0.8479 - val_loss: 0.5496 - val_accuracy: 0.8241\n",
            "Epoch 7/10\n",
            "1875/1875 [==============================] - 3s 2ms/step - loss: 0.4187 - accuracy: 0.8519 - val_loss: 0.5015 - val_accuracy: 0.8236\n",
            "Epoch 8/10\n",
            "1875/1875 [==============================] - 3s 2ms/step - loss: 0.4219 - accuracy: 0.8491 - val_loss: 0.4915 - val_accuracy: 0.8327\n",
            "Epoch 9/10\n",
            "1875/1875 [==============================] - 3s 2ms/step - loss: 0.4123 - accuracy: 0.8545 - val_loss: 0.4801 - val_accuracy: 0.8381\n",
            "Epoch 10/10\n",
            "1875/1875 [==============================] - 3s 2ms/step - loss: 0.4028 - accuracy: 0.8576 - val_loss: 0.4778 - val_accuracy: 0.8407\n"
          ],
          "name": "stdout"
        }
      ]
    },
    {
      "cell_type": "code",
      "metadata": {
        "colab": {
          "base_uri": "https://localhost:8080/",
          "height": 279
        },
        "id": "WkLO3EPyhr3D",
        "outputId": "008d4ad3-d46e-4368-cd84-c1b351957787"
      },
      "source": [
        "import matplotlib.pyplot as plt\n",
        "\n",
        "plt.plot(history2.history['loss'])\n",
        "plt.plot(history2.history['val_loss'])\n",
        "plt.xlabel('epoch')\n",
        "plt.ylabel('loss')\n",
        "plt.legend(['train', 'val'])\n",
        "plt.show()"
      ],
      "execution_count": 17,
      "outputs": [
        {
          "output_type": "display_data",
          "data": {
            "image/png": "[encoded data removed]",
            "text/plain": [
              "<Figure size 432x288 with 1 Axes>"
            ]
          },
          "metadata": {
            "tags": [],
            "needs_background": "light"
          }
        }
      ]
    },
    {
      "cell_type": "code",
      "metadata": {
        "colab": {
          "base_uri": "https://localhost:8080/",
          "height": 279
        },
        "id": "kGgRsulWdkx4",
        "outputId": "45b48def-c166-47ac-c5b4-beb7bc8afc82"
      },
      "source": [
        "plt.plot(history.history['loss'])\n",
        "plt.plot(history.history['val_loss'])\n",
        "plt.xlabel('epoch')\n",
        "plt.ylabel('loss')\n",
        "plt.legend(['train', 'val'])\n",
        "plt.show()\n",
        "#확연하게 향상된 성능을 볼 수 있다."
      ],
      "execution_count": 10,
      "outputs": [
        {
          "output_type": "display_data",
          "data": {
            "image/png": "[encoded data removed]",
            "text/plain": [
              "<Figure size 432x288 with 1 Axes>"
            ]
          },
          "metadata": {
            "tags": [],
            "needs_background": "light"
          }
        }
      ]
    }
  ]
}