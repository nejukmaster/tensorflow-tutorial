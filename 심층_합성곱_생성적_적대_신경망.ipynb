{
  "nbformat": 4,
  "nbformat_minor": 0,
  "metadata": {
    "colab": {
      "name": "심층_합성곱_생성적_적대_신경망.ipynb",
      "provenance": []
    },
    "kernelspec": {
      "name": "python3",
      "display_name": "Python 3"
    },
    "language_info": {
      "name": "python"
    },
    "accelerator": "GPU"
  },
  "cells": [
    {
      "cell_type": "markdown",
      "metadata": {
        "id": "Tahm2Ye7rT90"
      },
      "source": [
        "# **심층 합성곱 생성적 적대 신경망**"
      ]
    },
    {
      "cell_type": "code",
      "metadata": {
        "colab": {
          "base_uri": "https://localhost:8080/",
          "height": 35
        },
        "id": "lEWpYWXbpOCh",
        "outputId": "39cb2b1b-ed75-4fb0-9c05-d13a824c6f2b"
      },
      "source": [
        "import tensorflow as tf\n",
        "tf.__version__"
      ],
      "execution_count": null,
      "outputs": [
        {
          "output_type": "execute_result",
          "data": {
            "application/vnd.google.colaboratory.intrinsic+json": {
              "type": "string"
            },
            "text/plain": [
              "'2.4.1'"
            ]
          },
          "metadata": {
            "tags": []
          },
          "execution_count": 42
        }
      ]
    },
    {
      "cell_type": "code",
      "metadata": {
        "id": "5xZ5i9zvpUPN"
      },
      "source": [
        "# GIF를 만들기위해 설치합니다.\n",
        "!pip install -q imageio"
      ],
      "execution_count": null,
      "outputs": []
    },
    {
      "cell_type": "code",
      "metadata": {
        "id": "mBEkUUdhpXmL"
      },
      "source": [
        "import matplotlib.pyplot as plt\n",
        "import numpy as np"
      ],
      "execution_count": null,
      "outputs": []
    },
    {
      "cell_type": "markdown",
      "metadata": {
        "id": "eoSRvwUxpcPb"
      },
      "source": [
        "**데이터셋 로드**"
      ]
    },
    {
      "cell_type": "code",
      "metadata": {
        "colab": {
          "base_uri": "https://localhost:8080/"
        },
        "id": "6vJ-2360paoE",
        "outputId": "1850b4c4-24cb-4b9b-84ee-b76c2fdf3545"
      },
      "source": [
        "#(_,_)의 의미는 테스트세트의 input과 output을 모두 _라는 변수에 넣는 것이다.\n",
        "#이렇게되면 테스트 세트의 input과 output이 동일한 변수에 덮어씌워지기 때문에 사실상 테스트세트가 가지는 의미가 없어진다.\n",
        "#따라서 (_,_)는 테스트세트를 사용하지 않겠다는 의미가 된다.\n",
        "(train_images, train_labels), (_, _) = tf.keras.datasets.mnist.load_data()\n",
        "#astype메소드는 주어진 넘파이배열의 자료형을 결정한다.\n",
        "train_images = train_images.reshape(train_images.shape[0], 28, 28, 1).astype('float32')\n",
        "train_images = (train_images - 127.5) / 127.5 # 이미지를 [-1, 1]로 정규화\n",
        "#이미지 데이터가 들어갈 생성자(Generator)의 출력층 활성화함수로 tanh함수를 사용하므로, tanh함수의 범위인 [-1,1]로 정규화한다.\n",
        "print(train_images.shape)"
      ],
      "execution_count": null,
      "outputs": [
        {
          "output_type": "stream",
          "text": [
            "(60000, 28, 28, 1)\n"
          ],
          "name": "stdout"
        }
      ]
    },
    {
      "cell_type": "code",
      "metadata": {
        "id": "Ep8GddCUsxlj"
      },
      "source": [
        "#이미지 개수\n",
        "BUFFER_SIZE = 60000\n",
        "BATCH_SIZE = 256"
      ],
      "execution_count": null,
      "outputs": []
    },
    {
      "cell_type": "code",
      "metadata": {
        "id": "Caqriry0tG5F"
      },
      "source": [
        "# 데이터 배치를 만들고 섞음\n",
        "train_dataset = tf.data.Dataset.from_tensor_slices(train_images).shuffle(BUFFER_SIZE).batch(BATCH_SIZE)"
      ],
      "execution_count": null,
      "outputs": []
    },
    {
      "cell_type": "markdown",
      "metadata": {
        "id": "jUWXs8teuOi4"
      },
      "source": [
        "**모델 만들기**"
      ]
    },
    {
      "cell_type": "code",
      "metadata": {
        "id": "6BkxpNg1uXe4"
      },
      "source": [
        "#생성자 모델 제작 함수 정의\n",
        "def make_generator_model():\n",
        "    model = tf.keras.Sequential()\n",
        "    #input_shape가 크기 100의 1차원 배열인 이유는 랜덤시드로 부터 이미지를 생성하기 위함이다.\n",
        "    model.add(tf.keras.layers.Dense(7*7*256, use_bias=False, input_shape=(100,)))\n",
        "    #BatchNormalization층은 이전층의 출력을 정규화해준다.\n",
        "    model.add(tf.keras.layers.BatchNormalization())\n",
        "    #활성화함수 LeakyReLU를 사용\n",
        "    model.add(tf.keras.layers.LeakyReLU())\n",
        "\n",
        "    model.add(tf.keras.layers.Reshape((7, 7, 256)))\n",
        "    #asser키워드는 주어진 조건이 성립하지 않으면 예외 오류를 띄웁니다.\n",
        "    assert model.output_shape == (None, 7, 7, 256) # 주목: 배치사이즈로 None이 주어집니다.\n",
        "\n",
        "    #Conv2DTranspose는 Conv2D와는 반대로 특성맵에서 입력을 예측하는 모델이다.\n",
        "    #Conv2DTranspose의 출력은 Input*strides이다.\n",
        "    model.add(tf.keras.layers.Conv2DTranspose(128, (5, 5), strides=(1, 1), padding='same', use_bias=False))\n",
        "    assert model.output_shape == (None, 7, 7, 128)\n",
        "    model.add(tf.keras.layers.BatchNormalization())\n",
        "    model.add(tf.keras.layers.LeakyReLU())\n",
        "\n",
        "    model.add(tf.keras.layers.Conv2DTranspose(64, (5, 5), strides=(2, 2), padding='same', use_bias=False))\n",
        "    assert model.output_shape == (None, 14, 14, 64)\n",
        "    model.add(tf.keras.layers.BatchNormalization())\n",
        "    model.add(tf.keras.layers.LeakyReLU())\n",
        "\n",
        "    model.add(tf.keras.layers.Conv2DTranspose(1, (5, 5), strides=(2, 2), padding='same', use_bias=False, activation='tanh'))\n",
        "    assert model.output_shape == (None, 28, 28, 1)\n",
        "\n",
        "    return model"
      ],
      "execution_count": null,
      "outputs": []
    },
    {
      "cell_type": "code",
      "metadata": {
        "colab": {
          "base_uri": "https://localhost:8080/"
        },
        "id": "7-yIIc7K0sUt",
        "outputId": "af1d1e04-243b-4792-ab71-974bcdbe41ae"
      },
      "source": [
        "generator = make_generator_model()\n",
        "generator.summary()"
      ],
      "execution_count": null,
      "outputs": [
        {
          "output_type": "stream",
          "text": [
            "Model: \"sequential\"\n",
            "_________________________________________________________________\n",
            "Layer (type)                 Output Shape              Param #   \n",
            "=================================================================\n",
            "dense (Dense)                (None, 12544)             1254400   \n",
            "_________________________________________________________________\n",
            "batch_normalization (BatchNo (None, 12544)             50176     \n",
            "_________________________________________________________________\n",
            "leaky_re_lu (LeakyReLU)      (None, 12544)             0         \n",
            "_________________________________________________________________\n",
            "reshape (Reshape)            (None, 7, 7, 256)         0         \n",
            "_________________________________________________________________\n",
            "conv2d_transpose (Conv2DTran (None, 7, 7, 128)         819200    \n",
            "_________________________________________________________________\n",
            "batch_normalization_1 (Batch (None, 7, 7, 128)         512       \n",
            "_________________________________________________________________\n",
            "leaky_re_lu_1 (LeakyReLU)    (None, 7, 7, 128)         0         \n",
            "_________________________________________________________________\n",
            "conv2d_transpose_1 (Conv2DTr (None, 14, 14, 64)        204800    \n",
            "_________________________________________________________________\n",
            "batch_normalization_2 (Batch (None, 14, 14, 64)        256       \n",
            "_________________________________________________________________\n",
            "leaky_re_lu_2 (LeakyReLU)    (None, 14, 14, 64)        0         \n",
            "_________________________________________________________________\n",
            "conv2d_transpose_2 (Conv2DTr (None, 28, 28, 1)         1600      \n",
            "=================================================================\n",
            "Total params: 2,330,944\n",
            "Trainable params: 2,305,472\n",
            "Non-trainable params: 25,472\n",
            "_________________________________________________________________\n"
          ],
          "name": "stdout"
        }
      ]
    },
    {
      "cell_type": "code",
      "metadata": {
        "colab": {
          "base_uri": "https://localhost:8080/",
          "height": 299
        },
        "id": "VDcmnnBj4NmD",
        "outputId": "9ff487a2-9b91-44fc-ff6c-942022aaf317"
      },
      "source": [
        "#훈련을 진행하지 않고 이미지를 생성\n",
        "\n",
        "#랜덤 input 노이즈 생성\n",
        "noise = tf.random.normal([1, 100])\n",
        "#케라스의 모델은 fit메서드를 사용하지 않고도 다음 코드와 같이 하나씩 훈련할 수도 있다.\n",
        "#training인자를 False로 주면 해당 훈련의 결과를 모델에 반영하지 않는다.\n",
        "generated_image = generator(noise, training=False)\n",
        "print(generated_image.shape)\n",
        "\n",
        "plt.imshow(generated_image[0, :, :, 0], cmap='gray')"
      ],
      "execution_count": null,
      "outputs": [
        {
          "output_type": "stream",
          "text": [
            "(1, 28, 28, 1)\n"
          ],
          "name": "stdout"
        },
        {
          "output_type": "execute_result",
          "data": {
            "text/plain": [
              "<matplotlib.image.AxesImage at 0x7f24404191d0>"
            ]
          },
          "metadata": {
            "tags": []
          },
          "execution_count": 9
        },
        {
          "output_type": "display_data",
          "data": {
            "image/png": "[encoded data removed]",
            "text/plain": [
              "<Figure size 432x288 with 1 Axes>"
            ]
          },
          "metadata": {
            "tags": [],
            "needs_background": "light"
          }
        }
      ]
    },
    {
      "cell_type": "code",
      "metadata": {
        "id": "JT874hBc6KXI"
      },
      "source": [
        "#감별자 생성 함수 정의\n",
        "#감별자는 일반적인 CNN기반의 이미지 분류기로 생성한다.\n",
        "def make_discriminator_model():\n",
        "    model = tf.keras.Sequential()\n",
        "    model.add(tf.keras.layers.Conv2D(64, (5, 5), strides=(2, 2), padding='same',\n",
        "                                     input_shape=[28, 28, 1]))\n",
        "    model.add(tf.keras.layers.LeakyReLU())\n",
        "    model.add(tf.keras.layers.Dropout(0.3))\n",
        "\n",
        "    model.add(tf.keras.layers.Conv2D(128, (5, 5), strides=(2, 2), padding='same'))\n",
        "    model.add(tf.keras.layers.LeakyReLU())\n",
        "    model.add(tf.keras.layers.Dropout(0.3))\n",
        "\n",
        "    model.add(tf.keras.layers.Flatten())\n",
        "    model.add(tf.keras.layers.Dense(1))\n",
        "\n",
        "    return model"
      ],
      "execution_count": null,
      "outputs": []
    },
    {
      "cell_type": "code",
      "metadata": {
        "colab": {
          "base_uri": "https://localhost:8080/"
        },
        "id": "cnfD44qC63mc",
        "outputId": "fe04e855-1fac-4d71-94a1-df7ad834587b"
      },
      "source": [
        "discriminator = make_discriminator_model()\n",
        "discriminator.summary()"
      ],
      "execution_count": null,
      "outputs": [
        {
          "output_type": "stream",
          "text": [
            "Model: \"sequential_1\"\n",
            "_________________________________________________________________\n",
            "Layer (type)                 Output Shape              Param #   \n",
            "=================================================================\n",
            "conv2d (Conv2D)              (None, 14, 14, 64)        1664      \n",
            "_________________________________________________________________\n",
            "leaky_re_lu_3 (LeakyReLU)    (None, 14, 14, 64)        0         \n",
            "_________________________________________________________________\n",
            "dropout (Dropout)            (None, 14, 14, 64)        0         \n",
            "_________________________________________________________________\n",
            "conv2d_1 (Conv2D)            (None, 7, 7, 128)         204928    \n",
            "_________________________________________________________________\n",
            "leaky_re_lu_4 (LeakyReLU)    (None, 7, 7, 128)         0         \n",
            "_________________________________________________________________\n",
            "dropout_1 (Dropout)          (None, 7, 7, 128)         0         \n",
            "_________________________________________________________________\n",
            "flatten (Flatten)            (None, 6272)              0         \n",
            "_________________________________________________________________\n",
            "dense_1 (Dense)              (None, 1)                 6273      \n",
            "=================================================================\n",
            "Total params: 212,865\n",
            "Trainable params: 212,865\n",
            "Non-trainable params: 0\n",
            "_________________________________________________________________\n"
          ],
          "name": "stdout"
        }
      ]
    },
    {
      "cell_type": "code",
      "metadata": {
        "colab": {
          "base_uri": "https://localhost:8080/"
        },
        "id": "WbZNr26K60Ns",
        "outputId": "8d79d67a-67b8-4498-a994-aed6be9c74f2"
      },
      "source": [
        "#위조된 이미지로 판별을 내려본다.\n",
        "decision = discriminator(generated_image)\n",
        "print (decision)\n",
        "#이 discriminator는 진짜 이미지에 양수를, 가짜 이미지에 음수를 출력한다.\n",
        "#생성적 적대 신경망(GAN)은 아래의 값이 0(50퍼센트)이 될때까지 학습한다.\n",
        "#이러한 이유는 discriminator(감별자)가 더 이상 진짜와 위조의 판단이 불가능할 경우 50퍼센트 확률로 찍기 때문이다."
      ],
      "execution_count": null,
      "outputs": [
        {
          "output_type": "stream",
          "text": [
            "tf.Tensor([[0.00039611]], shape=(1, 1), dtype=float32)\n"
          ],
          "name": "stdout"
        }
      ]
    },
    {
      "cell_type": "markdown",
      "metadata": {
        "id": "xcOzTdBU8EAt"
      },
      "source": [
        "**손실함수와 옵티마이저 정의**"
      ]
    },
    {
      "cell_type": "code",
      "metadata": {
        "id": "mLbacaKp8HFg"
      },
      "source": [
        "# 이 메서드는 크로스 엔트로피 손실함수 (cross entropy loss)를 계산하기 위해 헬퍼 (helper) 함수를 반환합니다.\n",
        "cross_entropy = tf.keras.losses.BinaryCrossentropy(from_logits=True)"
      ],
      "execution_count": null,
      "outputs": []
    },
    {
      "cell_type": "code",
      "metadata": {
        "id": "OosKwXeh8d9I"
      },
      "source": [
        "#가짜 이미지와 진짜 이미지를 얼마나 잘 판별하는지 수치화하는 손실함수 제작\n",
        "def discriminator_loss(real_output, fake_output):\n",
        "  #진짜 이미지 분류시 손실\n",
        "  #tf.ones_like 메서드는 주어진 텐서와 같은 모양을 가지는 1로 채워진 텐서를 생성한다.\n",
        "  real_loss = cross_entropy(tf.ones_like(real_output), real_output)\n",
        "  #가짜 이미지 분류시 손실\n",
        "  #tf.zeros_like 메서드는 주어진 텐서와 같은 모양을 가지는 0으로 채워진 텐서를 생성한다.\n",
        "  fake_loss = cross_entropy(tf.zeros_like(fake_output), fake_output)\n",
        "  total_loss = real_loss + fake_loss\n",
        "  return total_loss"
      ],
      "execution_count": null,
      "outputs": []
    },
    {
      "cell_type": "code",
      "metadata": {
        "id": "S2m0Kl07HFJh"
      },
      "source": [
        "#감별자를 얼마나 잘 속였는지에 대해 수치화하는 손실함수를 제작\n",
        "def generator_loss(fake_output):\n",
        "    return cross_entropy(tf.ones_like(fake_output), fake_output)"
      ],
      "execution_count": null,
      "outputs": []
    },
    {
      "cell_type": "code",
      "metadata": {
        "id": "ABrEnJkNHpjh"
      },
      "source": [
        "#각각의 옵티마이저 정의\n",
        "#Adam은 적응형 옵티마이저이기 때문에 따로 선언해준다.\n",
        "generator_optimizer = tf.keras.optimizers.Adam(1e-4)\n",
        "discriminator_optimizer = tf.keras.optimizers.Adam(1e-4)"
      ],
      "execution_count": null,
      "outputs": []
    },
    {
      "cell_type": "markdown",
      "metadata": {
        "id": "2nHHYtCMH2P0"
      },
      "source": [
        "**체크포인트**"
      ]
    },
    {
      "cell_type": "code",
      "metadata": {
        "id": "bNP57dhMH3zG"
      },
      "source": [
        "#os모듈은 운영체제에서 제공하는 여러 기능들을 파이썬에서 사용할 수 있게 해준다.\n",
        "import os\n",
        "\n",
        "checkpoint_dir = './training_checkpoints'\n",
        "checkpoint_prefix = os.path.join(checkpoint_dir, \"ckpt\")\n",
        "checkpoint = tf.train.Checkpoint(generator_optimizer=generator_optimizer,\n",
        "                                 discriminator_optimizer=discriminator_optimizer,\n",
        "                                 generator=generator,\n",
        "                                 discriminator=discriminator)"
      ],
      "execution_count": null,
      "outputs": []
    },
    {
      "cell_type": "markdown",
      "metadata": {
        "id": "JBtz81raIku7"
      },
      "source": [
        "**훈련 루프 설정**"
      ]
    },
    {
      "cell_type": "code",
      "metadata": {
        "id": "LWPT2T4WInw-"
      },
      "source": [
        "EPOCHS = 50\n",
        "#입력값 노이즈의 크기를 지정\n",
        "noise_dim = 100\n",
        "num_examples_to_generate = 16\n",
        "\n",
        "# 이 시드를 시간이 지나도 재활용하겠습니다. \n",
        "# (GIF 애니메이션에서 진전 내용을 시각화하는데 쉽기 때문입니다.) \n",
        "#tf.random.normal메서드는 주어진 모양으로 0~1까지의 랜덤한 실수로 채워줍니다.\n",
        "#상세:https://www.tensorflow.org/api_docs/python/tf/random/normal\n",
        "seed = tf.random.normal([num_examples_to_generate, noise_dim])"
      ],
      "execution_count": null,
      "outputs": []
    },
    {
      "cell_type": "code",
      "metadata": {
        "id": "ekKiNXK5Ja0Z"
      },
      "source": [
        "#한 단계 학습하는 방법을 텐서플로우 함수로 정의\n",
        "#tf.function 데코레이터로 정의한 함수는 텐서플로우의 함수 기능을 지닙니다.\n",
        "#https://www.tensorflow.org/guide/function?hl=ko\n",
        "@tf.function\n",
        "def train_step(images):\n",
        "  #랜덤 노이즈(시드)생성\n",
        "  noise = tf.random.normal([BATCH_SIZE, noise_dim])\n",
        "\n",
        "  #tf.GradientTape는 컨텍스트 안에서 일어난 모든 연산을 기록해서 자동미분하여 Gradient(기울기)값을 뽑아준다.\n",
        "  #tf.GradientTape객체는 기본적으로 with구문 하위에 관찰할수 있는 모든 대상을 관찰한다. \n",
        "  #https://www.tensorflow.org/guide/autodiff?hl=ko\n",
        "  with tf.GradientTape() as gen_tape, tf.GradientTape() as disc_tape:\n",
        "    #이미지를 위조하고 학습\n",
        "    generated_images = generator(noise, training=True)\n",
        "\n",
        "    #진짜 이미지를 판별하고 학습\n",
        "    real_output = discriminator(images, training=True)\n",
        "    #가짜 이미지를 판별하고 학습\n",
        "    fake_output = discriminator(generated_images, training=True)\n",
        "\n",
        "    #generator와 discriminator의 손실함수에 각각의 출력을 넣어 이번 학습의 손실값을 저장\n",
        "    gen_loss = generator_loss(fake_output)\n",
        "    disc_loss = discriminator_loss(real_output, fake_output)\n",
        "\n",
        "  #GradientTape의 gradient메서드는 관찰한 적 있는 변수의 도함수를 뽑아내줍니다.\n",
        "  #gradient(x,y) -> y에 대한 x의 도함수\n",
        "  gradients_of_generator = gen_tape.gradient(gen_loss, generator.trainable_variables)\n",
        "  gradients_of_discriminator = disc_tape.gradient(disc_loss, discriminator.trainable_variables)\n",
        "\n",
        "  #이번 학습의 결과를 옵티마이저에 업데이트\n",
        "  #zip 함수는 동일한 길이를 가진 배열을 묶어준다.\n",
        "  generator_optimizer.apply_gradients(zip(gradients_of_generator, generator.trainable_variables))\n",
        "  discriminator_optimizer.apply_gradients(zip(gradients_of_discriminator, discriminator.trainable_variables))\n",
        "#이와 같은 low-level의 학습 커스터마이징은 아래의 포스팅에 자세히 나와있다.\n",
        "#https://hwiyong.tistory.com/110"
      ],
      "execution_count": null,
      "outputs": []
    },
    {
      "cell_type": "markdown",
      "metadata": {
        "id": "KTJhmYktXM6e"
      },
      "source": [
        "**zip함수 이해하기**"
      ]
    },
    {
      "cell_type": "code",
      "metadata": {
        "colab": {
          "base_uri": "https://localhost:8080/"
        },
        "id": "D3Bn0PG-XMpz",
        "outputId": "3f36e75c-1fa3-4f81-805e-5e9a1d31989d"
      },
      "source": [
        "#https://wikidocs.net/32#zip\n",
        "print(list(zip([1, 2, 3], [4, 5, 6])))\n",
        "print(list(zip(\"abc\", \"def\")))"
      ],
      "execution_count": null,
      "outputs": [
        {
          "output_type": "stream",
          "text": [
            "[(1, 4), (2, 5), (3, 6)]\n",
            "[('a', 'd'), ('b', 'e'), ('c', 'f')]\n"
          ],
          "name": "stdout"
        }
      ]
    },
    {
      "cell_type": "code",
      "metadata": {
        "id": "Bfc_uFtMXn4X"
      },
      "source": [
        "#IPython.display모듈은 데이터셋을 HTML형식으로 출력해준다.\n",
        "from IPython import display\n",
        "#시간데이터를 다루기위한 time 모듈\n",
        "import time\n",
        "\n",
        "#학습을 위한 함수 정의\n",
        "def train(dataset, epochs):\n",
        "  for epoch in range(epochs):\n",
        "    #time.time()메서드는 \"Epoch Time\"을 출력해준다.\n",
        "    start = time.time()\n",
        "\n",
        "    #dataset을 루프 돌려서 모든 데이터 셋을 학습\n",
        "    for image_batch in dataset:\n",
        "      train_step(image_batch)\n",
        "\n",
        "    # GIF를 위한 이미지를 바로 생성합니다.\n",
        "    display.clear_output(wait=True)\n",
        "    generate_and_save_images(generator,\n",
        "                             epoch + 1,\n",
        "                             seed)\n",
        "\n",
        "    # 15 에포크가 지날 때마다 모델을 저장합니다.\n",
        "    if (epoch + 1) % 15 == 0:\n",
        "      checkpoint.save(file_prefix = checkpoint_prefix)\n",
        "\n",
        "    # print (' 에포크 {} 에서 걸린 시간은 {} 초 입니다'.format(epoch +1, time.time()-start))\n",
        "    print ('Time for epoch {} is {} sec'.format(epoch + 1, time.time()-start))\n",
        "\n",
        "  # 마지막 에포크가 끝난 후 생성합니다.\n",
        "  display.clear_output(wait=True)\n",
        "  generate_and_save_images(generator,\n",
        "                           epochs,\n",
        "                           seed)"
      ],
      "execution_count": null,
      "outputs": []
    },
    {
      "cell_type": "markdown",
      "metadata": {
        "id": "9JnLzKhYa-Xr"
      },
      "source": [
        "**이미지 생성및 저장**"
      ]
    },
    {
      "cell_type": "code",
      "metadata": {
        "id": "wHI29xlqZ65y"
      },
      "source": [
        "def generate_and_save_images(model, epoch, test_input):\n",
        "  # `training`이 False로 맞춰진 것을 주목하세요.\n",
        "  # 이렇게 하면 (배치정규화를 포함하여) 모든 층들이 추론 모드로 실행됩니다. \n",
        "  predictions = model(test_input, training=False)\n",
        "\n",
        "  fig = plt.figure(figsize=(4,4))\n",
        "\n",
        "  for i in range(predictions.shape[0]):\n",
        "      plt.subplot(4, 4, i+1)\n",
        "      plt.imshow(predictions[i, :, :, 0] * 127.5 + 127.5, cmap='gray')\n",
        "      plt.axis('off')\n",
        "\n",
        "  plt.savefig('image_at_epoch_{:04d}.png'.format(epoch))\n",
        "  plt.show()"
      ],
      "execution_count": null,
      "outputs": []
    },
    {
      "cell_type": "markdown",
      "metadata": {
        "id": "RAOroMGQa09o"
      },
      "source": [
        "**모델 훈련**"
      ]
    },
    {
      "cell_type": "code",
      "metadata": {
        "colab": {
          "base_uri": "https://localhost:8080/",
          "height": 282
        },
        "id": "qDMxYlMNayjT",
        "outputId": "a18b82a1-3c35-444b-cf11-c65965fe4a80"
      },
      "source": [
        "%%time\n",
        "train(train_dataset, EPOCHS)"
      ],
      "execution_count": null,
      "outputs": [
        {
          "output_type": "display_data",
          "data": {
            "image/png": "[encoded data removed]",
            "text/plain": [
              "<Figure size 288x288 with 16 Axes>"
            ]
          },
          "metadata": {
            "tags": [],
            "needs_background": "light"
          }
        },
        {
          "output_type": "stream",
          "text": [
            "CPU times: user 2min 58s, sys: 27 s, total: 3min 25s\n",
            "Wall time: 11min 39s\n"
          ],
          "name": "stdout"
        }
      ]
    },
    {
      "cell_type": "code",
      "metadata": {
        "colab": {
          "base_uri": "https://localhost:8080/"
        },
        "id": "J-JmnLiudD5Y",
        "outputId": "7e7eae39-ee22-4a4b-bdb7-638afd396234"
      },
      "source": [
        "checkpoint.restore(tf.train.latest_checkpoint(checkpoint_dir))"
      ],
      "execution_count": null,
      "outputs": [
        {
          "output_type": "execute_result",
          "data": {
            "text/plain": [
              "<tensorflow.python.training.tracking.util.CheckpointLoadStatus at 0x7f23f6fc3810>"
            ]
          },
          "metadata": {
            "tags": []
          },
          "execution_count": 24
        }
      ]
    },
    {
      "cell_type": "code",
      "metadata": {
        "colab": {
          "base_uri": "https://localhost:8080/",
          "height": 305
        },
        "id": "SaRjYY4rdHyD",
        "outputId": "f2acc788-99d6-4a85-bb4c-dba958a955ff"
      },
      "source": [
        "import PIL\n",
        "\n",
        "# 에포크 숫자를 사용하여 하나의 이미지를 보여줍니다.\n",
        "def display_image(epoch_no):\n",
        "  return PIL.Image.open('image_at_epoch_{:04d}.png'.format(epoch_no))\n",
        "display_image(EPOCHS)"
      ],
      "execution_count": null,
      "outputs": [
        {
          "output_type": "execute_result",
          "data": {
            "image/png": "[encoded data removed]",
            "text/plain": [
              "<PIL.PngImagePlugin.PngImageFile image mode=RGBA size=288x288 at 0x7F23F6FBD1D0>"
            ]
          },
          "metadata": {
            "tags": []
          },
          "execution_count": 25
        }
      ]
    },
    {
      "cell_type": "code",
      "metadata": {
        "colab": {
          "base_uri": "https://localhost:8080/"
        },
        "id": "6uUF6x5ofm6l",
        "outputId": "7c916166-f8b2-47b2-f9a1-af099a3ebb50"
      },
      "source": [
        "#ttung102802@gmail.com\n",
        "from google.colab import drive\n",
        "from IPython.display import Image\n",
        "drive.mount('/gdrive', force_remount=True)"
      ],
      "execution_count": null,
      "outputs": [
        {
          "output_type": "stream",
          "text": [
            "Mounted at /gdrive\n"
          ],
          "name": "stdout"
        }
      ]
    },
    {
      "cell_type": "code",
      "metadata": {
        "id": "dambiRIFdZzi"
      },
      "source": [
        "import imageio\n",
        "import glob\n",
        "\n",
        "anim_file = '/gdrive/My Drive/Colab Notebooks/dcgan.gif'\n",
        "\n",
        "#imageio로 훈련중에 저장된 이미지로 gif를 만든다\n",
        "with imageio.get_writer(anim_file, mode='I') as writer:\n",
        "  filenames = glob.glob('image*.png')\n",
        "  filenames = sorted(filenames)\n",
        "  last = -1\n",
        "  for i,filename in enumerate(filenames):\n",
        "    frame = 2*(i**0.5)\n",
        "    if round(frame) > round(last):\n",
        "      last = frame\n",
        "    else:\n",
        "      continue\n",
        "    image = imageio.imread(filename)\n",
        "    writer.append_data(image)\n",
        "  image = imageio.imread(filename)\n",
        "  writer.append_data(image)\n",
        "\n",
        "import IPython\n",
        "if IPython.version_info > (6,2,0,''):\n",
        "  display.Image(filename=anim_file)"
      ],
      "execution_count": null,
      "outputs": []
    },
    {
      "cell_type": "markdown",
      "metadata": {
        "id": "dBRnGBVA3Qo3"
      },
      "source": [
        "# **적용**"
      ]
    },
    {
      "cell_type": "code",
      "metadata": {
        "id": "7-sLZlXH3QIu"
      },
      "source": [
        "(train_input, train_target), (test_input, test_target) = tf.keras.datasets.fashion_mnist.load_data()\n",
        "\n",
        "#이미지를 높이 1의 3차원 배열로 바꾸어 전체 배열을 4차원으로 바꾸었다.\n",
        "train_scaled = train_input.reshape(-1, 28, 28, 1) / 255.0"
      ],
      "execution_count": null,
      "outputs": []
    },
    {
      "cell_type": "code",
      "metadata": {
        "colab": {
          "base_uri": "https://localhost:8080/"
        },
        "id": "qp4OWMAG5JDC",
        "outputId": "a8507006-c672-4c50-d063-64d3549f863e"
      },
      "source": [
        "print(train_scaled.shape)\n",
        "\n",
        "#데이터의 크기는 MNIST랑 동일하므로 BUFFER_SIZE와 BATCH_SIZE를 그대로 사용한다.\n",
        "fashion_train_dataset = tf.data.Dataset.from_tensor_slices(train_scaled).shuffle(BUFFER_SIZE).batch(BATCH_SIZE)"
      ],
      "execution_count": null,
      "outputs": [
        {
          "output_type": "stream",
          "text": [
            "(60000, 28, 28, 1)\n"
          ],
          "name": "stdout"
        }
      ]
    },
    {
      "cell_type": "code",
      "metadata": {
        "id": "p0pDjJiF3cmZ"
      },
      "source": [
        "#데이터의 크기가 완전히 동일하므로 모델과 옵티마이저를 초기화만 해준다.\n",
        "discriminator = make_discriminator_model()\n",
        "generator = make_generator_model()\n",
        "\n",
        "generator_optimizer = tf.keras.optimizers.Adam(1e-4)\n",
        "discriminator_optimizer = tf.keras.optimizers.Adam(1e-4)"
      ],
      "execution_count": null,
      "outputs": []
    },
    {
      "cell_type": "code",
      "metadata": {
        "colab": {
          "base_uri": "https://localhost:8080/",
          "height": 282
        },
        "id": "jH2HlnqG6TCR",
        "outputId": "b77f98d9-9c9b-481e-fd9a-ab08a47914d8"
      },
      "source": [
        "%%time\n",
        "\n",
        "train(fashion_train_dataset,50)"
      ],
      "execution_count": null,
      "outputs": [
        {
          "output_type": "display_data",
          "data": {
            "image/png": "[encoded data removed]",
            "text/plain": [
              "<Figure size 288x288 with 16 Axes>"
            ]
          },
          "metadata": {
            "tags": [],
            "needs_background": "light"
          }
        },
        {
          "output_type": "stream",
          "text": [
            "CPU times: user 3min 6s, sys: 23.5 s, total: 3min 30s\n",
            "Wall time: 11min 40s\n"
          ],
          "name": "stdout"
        }
      ]
    },
    {
      "cell_type": "code",
      "metadata": {
        "id": "CVVshClL70FZ"
      },
      "source": [
        "anim_file = '/gdrive/My Drive/Colab Notebooks/fdgan.gif'\n",
        "\n",
        "#imageio로 훈련중에 저장된 이미지로 gif를 만든다\n",
        "with imageio.get_writer(anim_file, mode='I') as writer:\n",
        "  filenames = glob.glob('image*.png')\n",
        "  filenames = sorted(filenames)\n",
        "  last = -1\n",
        "  for i,filename in enumerate(filenames):\n",
        "    frame = 2*(i**0.5)\n",
        "    if round(frame) > round(last):\n",
        "      last = frame\n",
        "    else:\n",
        "      continue\n",
        "    image = imageio.imread(filename)\n",
        "    writer.append_data(image)\n",
        "  image = imageio.imread(filename)\n",
        "  writer.append_data(image)\n",
        "\n",
        "import IPython\n",
        "if IPython.version_info > (6,2,0,''):\n",
        "  display.Image(filename=anim_file)"
      ],
      "execution_count": null,
      "outputs": []
    }
  ]
}