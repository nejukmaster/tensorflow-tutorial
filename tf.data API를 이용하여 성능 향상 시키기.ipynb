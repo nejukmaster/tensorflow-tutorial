{
  "nbformat": 4,
  "nbformat_minor": 0,
  "metadata": {
    "colab": {
      "name": "Untitled41.ipynb",
      "provenance": [],
      "collapsed_sections": []
    },
    "kernelspec": {
      "name": "python3",
      "display_name": "Python 3"
    },
    "language_info": {
      "name": "python"
    },
    "accelerator": "GPU"
  },
  "cells": [
    {
      "cell_type": "markdown",
      "metadata": {
        "id": "yw80iJO_uFnk"
      },
      "source": [
        "# **tf.data API**\n",
        "\n",
        "> tf.data API를 사용하여 모델 성능 향상시키기\n",
        "\n",
        "https://www.tensorflow.org/guide/data_performance?hl=ko\n",
        "\n"
      ]
    },
    {
      "cell_type": "code",
      "metadata": {
        "id": "LGl9FwrauDsj"
      },
      "source": [
        "import tensorflow as tf\n",
        "\n",
        "import time"
      ],
      "execution_count": 1,
      "outputs": []
    },
    {
      "cell_type": "markdown",
      "metadata": {
        "id": "xMOMcCPtuVne"
      },
      "source": [
        "**데이터 셋**"
      ]
    },
    {
      "cell_type": "code",
      "metadata": {
        "id": "7v7BP2aauX_s"
      },
      "source": [
        "#Dataset클래스를 상속하여 ArtificialDataset을 제작\n",
        "class ArtificialDataset(tf.data.Dataset):\n",
        "  #iterator를 생성하는 함수를 generator라고 하며, yield키워드를 지니는 함수의 총칭이다.\n",
        "  #yield는 iterator의 각 항목을 순서대로 생성하며, generator에 반드시 하나는 있어야 한다.\n",
        "  def _generator(num_samples):\n",
        "    # 파일 열기\n",
        "    time.sleep(0.03)\n",
        "\n",
        "    for sample_idx in range(num_samples):\n",
        "      # 파일에서 데이터(줄, 기록) 읽기\n",
        "      time.sleep(0.015)\n",
        "\n",
        "      yield (sample_idx,)\n",
        "\n",
        "  def __new__(cls, num_samples=3):\n",
        "    #Dataset의 from_generator메서드는 설정된 generator를 받아 generator가 생성하는대로 Dataset을 생성한다.\n",
        "    return tf.data.Dataset.from_generator(\n",
        "      cls._generator,\n",
        "      output_types=tf.dtypes.int64,\n",
        "      output_shapes=(1,),\n",
        "      args=(num_samples,)\n",
        "    )"
      ],
      "execution_count": 2,
      "outputs": []
    },
    {
      "cell_type": "markdown",
      "metadata": {
        "id": "EpCLM66ewihK"
      },
      "source": [
        "Generator이해하기"
      ]
    },
    {
      "cell_type": "code",
      "metadata": {
        "colab": {
          "base_uri": "https://localhost:8080/"
        },
        "id": "T5H-zf-_wkak",
        "outputId": "9d9c7587-53aa-4c89-d369-68d2daeb5bad"
      },
      "source": [
        "def number_generator():\n",
        "    yield 0\n",
        "    yield 1\n",
        "    yield 2\n",
        "#number_generator함수의 결괏값은 iterator이므로 for in 구문에 들어갈 수 있다.\n",
        "for i in number_generator():\n",
        "  print(i)\n",
        "  #0,1,2순서대로 출력된 것을 볼 수 있다."
      ],
      "execution_count": 3,
      "outputs": [
        {
          "output_type": "stream",
          "text": [
            "0\n",
            "1\n",
            "2\n"
          ],
          "name": "stdout"
        }
      ]
    },
    {
      "cell_type": "code",
      "metadata": {
        "colab": {
          "base_uri": "https://localhost:8080/"
        },
        "id": "2bouJdQFw97l",
        "outputId": "4fdb0d66-4385-4434-bbf6-a83d216c4b9b"
      },
      "source": [
        "def number_generator(num):\n",
        "  for i in range(0,num):\n",
        "    yield(i)\n",
        "for i in number_generator(7):\n",
        "  print(i)\n",
        "  #(0,7)범위의 정수가 순서대로 출력된것을 볼 수 있다."
      ],
      "execution_count": 4,
      "outputs": [
        {
          "output_type": "stream",
          "text": [
            "0\n",
            "1\n",
            "2\n",
            "3\n",
            "4\n",
            "5\n",
            "6\n"
          ],
          "name": "stdout"
        }
      ]
    },
    {
      "cell_type": "markdown",
      "metadata": {
        "id": "F83kTHJNxqxO"
      },
      "source": [
        "**훈련루프**\n",
        "\n",
        "\n",
        "> 데이터셋을 반복하는데 걸리는 시간을 측정하는 더미 훈련루프 정의\n",
        "\n"
      ]
    },
    {
      "cell_type": "code",
      "metadata": {
        "id": "YHwoNXiTxjlM"
      },
      "source": [
        "def benchmark(dataset, num_epochs=2):\n",
        "  #perf_counter메서드는 time.sleep메서드로 일시정지한 시간을 포함해 측정한다.\n",
        "  start_time = time.perf_counter()\n",
        "  for epoch_num in range(num_epochs):\n",
        "    #데이터 세트를 순회\n",
        "    for sample in dataset:\n",
        "      # 훈련 스텝마다 실행\n",
        "      time.sleep(0.01)\n",
        "  tf.print(\"실행 시간:\", time.perf_counter() - start_time)"
      ],
      "execution_count": 5,
      "outputs": []
    },
    {
      "cell_type": "code",
      "metadata": {
        "colab": {
          "base_uri": "https://localhost:8080/"
        },
        "id": "KsjvDieNznP4",
        "outputId": "f5dbff48-dae8-4431-d4e9-81956cfb6bb3"
      },
      "source": [
        "benchmark(ArtificialDataset())"
      ],
      "execution_count": 6,
      "outputs": [
        {
          "output_type": "stream",
          "text": [
            "실행 시간: 0.4265142440000034\n"
          ],
          "name": "stdout"
        }
      ]
    },
    {
      "cell_type": "markdown",
      "metadata": {
        "id": "ycd6a4p-0XxF"
      },
      "source": [
        "**prefetch**\n",
        "\n",
        "> 위의 코드는 ArtificialDataset()을 그대로 넣어 실행시간은 데이터를 읽고 쓰는 시간까지 포함한 시간이다. 이를 방지하기위해 텐서플로우 데이터세트는 prefetch기능으로 데이터를 미리 읽어놓을 수 있다.\n",
        "\n"
      ]
    },
    {
      "cell_type": "code",
      "metadata": {
        "colab": {
          "base_uri": "https://localhost:8080/"
        },
        "id": "OsVdVRPt0ysF",
        "outputId": "46a6485b-f06d-40a3-9512-09cb32f5cbff"
      },
      "source": [
        "benchmark(\n",
        "    ArtificialDataset()\n",
        "    .prefetch(tf.data.experimental.AUTOTUNE)\n",
        ")\n",
        "#실행시간이 절반으로 준 것을 볼 수 있다."
      ],
      "execution_count": 7,
      "outputs": [
        {
          "output_type": "stream",
          "text": [
            "실행 시간: 0.21717367200000126\n"
          ],
          "name": "stdout"
        }
      ]
    },
    {
      "cell_type": "markdown",
      "metadata": {
        "id": "qfkFpPM6079W"
      },
      "source": [
        "**데이터 추출 병렬화**\n",
        "\n",
        "\n",
        "> 두개의 데이터 셋에서 동시에 데이터를 읽어오는 방법\n",
        "\n"
      ]
    },
    {
      "cell_type": "markdown",
      "metadata": {
        "id": "22TqCh5Y26PG"
      },
      "source": [
        "순차 인터리브"
      ]
    },
    {
      "cell_type": "code",
      "metadata": {
        "colab": {
          "base_uri": "https://localhost:8080/"
        },
        "id": "1yK1ZZPz24Qw",
        "outputId": "6ca384d2-2c9a-44fb-f71e-a8e6db5fad14"
      },
      "source": [
        "#interleave는 두개의 데이터 셋에서 데이터를 순차적으로 인터리브한다.\n",
        "#인터리브:하드웨어의 성능을 높이기 위해 두 데이터를 겹치지 않게 배치하는 데이터 처리 기법\n",
        "benchmark(\n",
        "    tf.data.Dataset.range(2)\n",
        "    .interleave(ArtificialDataset)\n",
        ")"
      ],
      "execution_count": 8,
      "outputs": [
        {
          "output_type": "stream",
          "text": [
            "WARNING:tensorflow:From <ipython-input-2-94e8136d5492>:21: calling DatasetV2.from_generator (from tensorflow.python.data.ops.dataset_ops) with output_types is deprecated and will be removed in a future version.\n",
            "Instructions for updating:\n",
            "Use output_signature instead\n",
            "WARNING:tensorflow:From <ipython-input-2-94e8136d5492>:21: calling DatasetV2.from_generator (from tensorflow.python.data.ops.dataset_ops) with output_shapes is deprecated and will be removed in a future version.\n",
            "Instructions for updating:\n",
            "Use output_signature instead\n",
            "실행 시간: 0.2375453870000115\n"
          ],
          "name": "stdout"
        }
      ]
    },
    {
      "cell_type": "code",
      "metadata": {
        "colab": {
          "base_uri": "https://localhost:8080/"
        },
        "id": "hLLRM9wU4V4I",
        "outputId": "4a4791d8-e902-4c05-fd25-5322157b6008"
      },
      "source": [
        "#num_parallel_calls매개변수는 interleave메서드의 병렬처리 수준을 설정한다.\n",
        "benchmark(\n",
        "    tf.data.Dataset.range(2)\n",
        "    .interleave(\n",
        "        ArtificialDataset,\n",
        "        num_parallel_calls=tf.data.experimental.AUTOTUNE\n",
        "    )\n",
        ")\n",
        "#실행시간이 줄어든 것을 볼 수 있다."
      ],
      "execution_count": 9,
      "outputs": [
        {
          "output_type": "stream",
          "text": [
            "실행 시간: 0.18452532899999596\n"
          ],
          "name": "stdout"
        }
      ]
    },
    {
      "cell_type": "markdown",
      "metadata": {
        "id": "1LSyDv_Z4zvX"
      },
      "source": [
        "**데이터 변환 병렬화**"
      ]
    },
    {
      "cell_type": "code",
      "metadata": {
        "id": "ZF-A0V9842Un"
      },
      "source": [
        "def mapped_function(s):\n",
        "    # Do some hard pre-processing\n",
        "    #py_function메서드는 주어진 파이썬 함수를 텐서플로우 함수로 변환한다.\n",
        "    #py_function(파이썬함수,인자,반환자료형)\n",
        "    tf.py_function(lambda: time.sleep(0.03), [], ())\n",
        "    return s"
      ],
      "execution_count": 10,
      "outputs": []
    },
    {
      "cell_type": "code",
      "metadata": {
        "colab": {
          "base_uri": "https://localhost:8080/"
        },
        "id": "gocdn09t6KeG",
        "outputId": "5a028c68-3aa8-4c8b-c19c-755aef8e6189"
      },
      "source": [
        "benchmark(\n",
        "    ArtificialDataset()\n",
        "    .map(mapped_function)\n",
        ")"
      ],
      "execution_count": 11,
      "outputs": [
        {
          "output_type": "stream",
          "text": [
            "실행 시간: 0.4424666959999968\n"
          ],
          "name": "stdout"
        }
      ]
    },
    {
      "cell_type": "code",
      "metadata": {
        "colab": {
          "base_uri": "https://localhost:8080/"
        },
        "id": "4IE9I-as6fSJ",
        "outputId": "5ae4cbc2-905b-452c-d8a3-30745077e676"
      },
      "source": [
        "#map메서드에서 num_parallel_calls매개변수를 통해 데이터세트의 각 샘플에 대한 매핑을 병렬화할 수 있다.\n",
        "benchmark(\n",
        "    ArtificialDataset()\n",
        "    .map(\n",
        "        mapped_function,\n",
        "        num_parallel_calls=tf.data.experimental.AUTOTUNE\n",
        "    )\n",
        ")"
      ],
      "execution_count": 12,
      "outputs": [
        {
          "output_type": "stream",
          "text": [
            "실행 시간: 0.309227342000014\n"
          ],
          "name": "stdout"
        }
      ]
    },
    {
      "cell_type": "markdown",
      "metadata": {
        "id": "XqGgwSji7AE1"
      },
      "source": [
        "**Cache**\n",
        "\n",
        "\n",
        "> 캐시는 데이터셋의 작업 등을 메모리나 로컬 저장소에 저장할 수 있습니다. 원격 저장소에서 데이터를 읽어오는 경우 읽는 시간을 줄이기 위해서 로컬저장소 등에 저장하는 것이 일반적입니다.\n",
        "\n"
      ]
    },
    {
      "cell_type": "code",
      "metadata": {
        "colab": {
          "base_uri": "https://localhost:8080/"
        },
        "id": "q2pXuYPT8IRS",
        "outputId": "a5e29163-115d-4c03-e8e7-e0908efa6fca"
      },
      "source": [
        "benchmark(\n",
        "    ArtificialDataset()\n",
        "    .map(mapped_function),5\n",
        ")"
      ],
      "execution_count": 13,
      "outputs": [
        {
          "output_type": "stream",
          "text": [
            "실행 시간: 1.1072506850000252\n"
          ],
          "name": "stdout"
        }
      ]
    },
    {
      "cell_type": "code",
      "metadata": {
        "colab": {
          "base_uri": "https://localhost:8080/"
        },
        "id": "_OakdUai6_S7",
        "outputId": "7ef50a79-81d4-47e9-9e0d-dae7ae17293e"
      },
      "source": [
        "#epoch를 5번 적용\n",
        "benchmark(\n",
        "    #매핑 이후 캐시를 저장했기 때문에, 매핑 작업후 상태가 메모리에 저장되어 2번째 epoch부터는 이를 메모리에서 읽어오기만 한다.\n",
        "    ArtificialDataset()\n",
        "    .map(  # 캐시 전 시간이 많이 걸리는 작업 적용\n",
        "        mapped_function\n",
        "    ).cache(),5\n",
        ")\n",
        "#학습 시간이 눈에 띄게 줄어든 것을 볼 수 있다."
      ],
      "execution_count": 14,
      "outputs": [
        {
          "output_type": "stream",
          "text": [
            "실행 시간: 0.3762319479999974\n"
          ],
          "name": "stdout"
        }
      ]
    },
    {
      "cell_type": "markdown",
      "metadata": {
        "id": "E6vDa9kT9EuN"
      },
      "source": [
        "**매핑 벡터화**\n",
        "\n",
        "> 사용자 정의 함수를 벡터화(즉, 한 번에 여러 입력에 대해 작동하도록)하는 기법\n",
        "\n"
      ]
    },
    {
      "cell_type": "code",
      "metadata": {
        "id": "0AKwaal680QP"
      },
      "source": [
        "#앞서 만든 샘플 세개짜리 ArtificalDataset은 샘플 개수가 너무 적어 효과를 보기 어려우므로 샘플 10000개짜리 데이터셋을 만들어준다.\n",
        "fast_dataset = tf.data.Dataset.range(10000)\n",
        "\n",
        "def fast_benchmark(dataset, num_epochs=2):\n",
        "  start_time = time.perf_counter()\n",
        "  for _ in tf.data.Dataset.range(num_epochs):\n",
        "    for _ in dataset:\n",
        "      #더 빠른 실행 시간을 위해 time.sleep(0.01)구문을 뺐다.\n",
        "      pass\n",
        "  tf.print(\"실행 시간:\", time.perf_counter() - start_time)\n",
        "\n",
        "def increment(x):\n",
        "    return x+1"
      ],
      "execution_count": 15,
      "outputs": []
    },
    {
      "cell_type": "code",
      "metadata": {
        "colab": {
          "base_uri": "https://localhost:8080/"
        },
        "id": "Bd1YMcaJJVeT",
        "outputId": "36cb7b45-85f3-44f4-b40d-af0ea0b649b6"
      },
      "source": [
        "#일반적인 스칼라 매핑을 사용했을때.\n",
        "fast_benchmark(\n",
        "    fast_dataset\n",
        "    # 한 번에 한 항목씩 함수 적용\n",
        "    .map(increment)\n",
        "    # 배치\n",
        "    .batch(256)\n",
        ")"
      ],
      "execution_count": 16,
      "outputs": [
        {
          "output_type": "stream",
          "text": [
            "실행 시간: 1.144028654000067\n"
          ],
          "name": "stdout"
        }
      ]
    },
    {
      "cell_type": "code",
      "metadata": {
        "colab": {
          "base_uri": "https://localhost:8080/"
        },
        "id": "EMLHRR8lJywI",
        "outputId": "20243482-d582-47a4-fbec-d0695385f81b"
      },
      "source": [
        "#매핑 벡터화\n",
        "#batch에 매핑을 적용한다.\n",
        "fast_benchmark(\n",
        "    fast_dataset\n",
        "    .batch(256)\n",
        "    # items의 배치에 함수 적용\n",
        "    # tf.Tensor.__add__ 메서드는 이미 배치를 다룸\n",
        "    .map(increment)\n",
        ")\n",
        "#시간이 절반 이하로 확 줄어든 것을 볼 수 있다."
      ],
      "execution_count": 17,
      "outputs": [
        {
          "output_type": "stream",
          "text": [
            "실행 시간: 0.05037968700003148\n"
          ],
          "name": "stdout"
        }
      ]
    },
    {
      "cell_type": "markdown",
      "metadata": {
        "id": "BE--etvuKLMx"
      },
      "source": [
        "**메모리 사용량 줄이기**"
      ]
    },
    {
      "cell_type": "markdown",
      "metadata": {
        "id": "lvL1FnewLipr"
      },
      "source": [
        "부분 계산 캐싱\n",
        "\n",
        "\n",
        "> 매핑 이후 캐싱을 하면 사용량을 줄일 수 있다.\n",
        "\n"
      ]
    },
    {
      "cell_type": "code",
      "metadata": {
        "colab": {
          "base_uri": "https://localhost:8080/"
        },
        "id": "z-l2E0UUKNzm",
        "outputId": "7f9f32ff-dafa-4dad-df0f-55e56bdf9106"
      },
      "source": [
        "fast_dataset.map(increment).cache().map(increment)"
      ],
      "execution_count": 21,
      "outputs": [
        {
          "output_type": "execute_result",
          "data": {
            "text/plain": [
              "<MapDataset shapes: (), types: tf.int64>"
            ]
          },
          "metadata": {
            "tags": []
          },
          "execution_count": 21
        }
      ]
    }
  ]
}